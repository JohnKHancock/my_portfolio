{
 "cells": [
  {
   "cell_type": "markdown",
   "id": "medical-country",
   "metadata": {},
   "source": [
    "<h1 align='center'> Measuring the Impact of Integration on Major League Baseball</h1>\n",
    "<h2 align='center'> An Exploration and Analysis of Historical Baseball Data</h2>\n",
    "<h4 align='center'> by John K. Hancock</h4>\n",
    "<h4 align='center'>Email: jkhancock@gmail.com</h4>\n",
    "<h4 align='center'> Tel: (646) 825-1690</h4>"
   ]
  },
  {
   "cell_type": "markdown",
   "id": "annoying-accommodation",
   "metadata": {},
   "source": [
    "<h4>Introduction</h4>\n",
    "\n",
    "Founded in America in the 1860s during the Civil War, Major League Baseball (\"MLB\") is the oldest organized, professional sports league in the world. Prior to 1947, MLB had a “gentlemen’s agreement”, wherein owners agreed to segregate the game based on the race of the players. In 1947, the Brooklyn Dodgers and the Cleveland Indians broke that agreement when they fielded two African American players, Jackie Robinson and Larry Doby. These moves ushered in integration into major league baseball. From 1947 onward, the game would no longer be restricted based on race. \n",
    "\n",
    "Ending discrimination meant that MLB would become a true representation of the best players in the world. However, not every team embraced integration early on like the Dodgers and the Indians. It would take 12 years after 1947 for every team to be integrated with at least one African American player. The steady growth of integration in MLB can be seen in the table below\n",
    "\n",
    "<img src=\"images/racialdemos.JPG\" alt=\"mlb racial demos\" width=\"400\" height=\"400\">\n",
    "\n",
    "<b>Source: “Baseball Demographics, 1947-2012”, by Mark Armour and Daniel R. Levitt. (SABR Baseball\n",
    "Biography Project, http://sabr.org/bioproj/topic/baseball-demographics-1947-2012)</b>"
   ]
  },
  {
   "cell_type": "code",
   "execution_count": null,
   "id": "optional-payroll",
   "metadata": {},
   "outputs": [],
   "source": []
  }
 ],
 "metadata": {
  "kernelspec": {
   "display_name": "Python 3",
   "language": "python",
   "name": "python3"
  },
  "language_info": {
   "codemirror_mode": {
    "name": "ipython",
    "version": 3
   },
   "file_extension": ".py",
   "mimetype": "text/x-python",
   "name": "python",
   "nbconvert_exporter": "python",
   "pygments_lexer": "ipython3",
   "version": "3.7.3"
  }
 },
 "nbformat": 4,
 "nbformat_minor": 5
}
